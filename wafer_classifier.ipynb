{
  "nbformat": 4,
  "nbformat_minor": 0,
  "metadata": {
    "colab": {
      "provenance": [],
      "gpuType": "T4",
      "mount_file_id": "1417amUGh4VDtUZ5DLXsa_G6kej3sxGyk",
      "authorship_tag": "ABX9TyN3cdvRunzSZoyf7ZlRIKMQ",
      "include_colab_link": true
    },
    "kernelspec": {
      "name": "python3",
      "display_name": "Python 3"
    },
    "language_info": {
      "name": "python"
    },
    "accelerator": "GPU"
  },
  "cells": [
    {
      "cell_type": "markdown",
      "metadata": {
        "id": "view-in-github",
        "colab_type": "text"
      },
      "source": [
        "<a href=\"https://colab.research.google.com/github/pattern-recogniser/wafer-categoriser/blob/main/wafer_classifier.ipynb\" target=\"_parent\"><img src=\"https://colab.research.google.com/assets/colab-badge.svg\" alt=\"Open In Colab\"/></a>"
      ]
    },
    {
      "cell_type": "code",
      "execution_count": 1,
      "metadata": {
        "id": "RbGGlHdJXPfR"
      },
      "outputs": [],
      "source": [
        "import numpy as np\n",
        "import pandas as pd\n",
        "import pickle\n",
        "import matplotlib.pyplot as plt\n",
        "from sklearn.metrics import classification_report, confusion_matrix, accuracy_score\n",
        "from sklearn.model_selection import train_test_split\n",
        "from sklearn.preprocessing import LabelEncoder\n",
        "import tensorflow as tf\n",
        "from tensorflow.keras.models import Sequential\n",
        "from tensorflow.keras.layers import Conv2D, MaxPooling2D, Flatten, Dense\n",
        "from collections import Counter\n",
        "from imblearn.under_sampling import RandomUnderSampler\n",
        "from imblearn.over_sampling import RandomOverSampler"
      ]
    },
    {
      "cell_type": "code",
      "source": [
        "def get_df():\n",
        "  def clean(df):\n",
        "    # Changes the format of labels from np.array to string\n",
        "    df['labels'] = df['labels'].apply(lambda x: str(x[0]))\n",
        "    return df\n",
        "\n",
        "  # Get the file and set the labels correctly\n",
        "  with open('/content/drive/MyDrive/Lynceus-takehome/data/waferImg26x26.pkl', 'rb') as f:\n",
        "      df = pickle.load(f, encoding='latin1')\n",
        "  df = clean(df)\n",
        "\n",
        "  # Creating labels for the second model to use\n",
        "  df['labels_none'] = df['labels'].apply(lambda x: 'none' if x == 'none' else 'not_none')\n",
        "  return df"
      ],
      "metadata": {
        "id": "dIs2iAajioMl"
      },
      "execution_count": 2,
      "outputs": []
    },
    {
      "cell_type": "code",
      "source": [
        "def display_label_statistics(df):\n",
        "  # Calculate the count of each label\n",
        "  label_counts = df['labels'].value_counts()\n",
        "\n",
        "  # Calculate the percentage of occurrence of each label\n",
        "  label_percentages = round((label_counts / len(df)) * 100, 4)\n",
        "\n",
        "  # Create a new DataFrame to display the results\n",
        "  label_statistics = pd.DataFrame({\n",
        "      'Label': label_counts.index,\n",
        "      'Count': label_counts.values,\n",
        "      'Percentage': label_percentages.values\n",
        "  })\n",
        "\n",
        "  # Sort the DataFrame by count in descending order\n",
        "  label_statistics = label_statistics.sort_values(by='Count', ascending=False)\n",
        "\n",
        "  # Display the label statistics\n",
        "  print(label_statistics)"
      ],
      "metadata": {
        "id": "6uncS_PzX6Cv"
      },
      "execution_count": 3,
      "outputs": []
    },
    {
      "cell_type": "code",
      "source": [
        "# Function to display a few examples of each label\n",
        "def display_examples(df, label_column, num_examples=3):\n",
        "    unique_labels = set(df[label_column])\n",
        "    for label in unique_labels:\n",
        "        label_data = df[df[label_column] == label].head(num_examples)\n",
        "        print(f\"Examples for label '{label}':\")\n",
        "\n",
        "        for index, row in label_data.iterrows():\n",
        "            # Transpose the dimensions to (26, 26, 3) for RGB\n",
        "            rgb_image = np.transpose(row['images'], (1, 2, 0))\n",
        "\n",
        "            plt.imshow(rgb_image)\n",
        "            plt.title(f\"Label: {label} - Example {index+1}\")\n",
        "            plt.axis('off')\n",
        "            plt.show()\n",
        "\n",
        "# Display examples\n",
        "display_examples(df, label_column='labels', num_examples=1)"
      ],
      "metadata": {
        "colab": {
          "base_uri": "https://localhost:8080/",
          "height": 1000
        },
        "id": "fM2mLNmAYCBP",
        "outputId": "171b5106-3139-4fb5-8bae-f7e1ebbb103c"
      },
      "execution_count": 83,
      "outputs": [
        {
          "output_type": "stream",
          "name": "stdout",
          "text": [
            "Examples for label 'Donut':\n"
          ]
        },
        {
          "output_type": "display_data",
          "data": {
            "text/plain": [
              "<Figure size 640x480 with 1 Axes>"
            ],
            "image/png": "[encoded data removed]"
          },
          "metadata": {}
        },
        {
          "output_type": "stream",
          "name": "stdout",
          "text": [
            "Examples for label 'Random':\n"
          ]
        },
        {
          "output_type": "display_data",
          "data": {
            "text/plain": [
              "<Figure size 640x480 with 1 Axes>"
            ],
            "image/png": "[encoded data removed]"
          },
          "metadata": {}
        },
        {
          "output_type": "stream",
          "name": "stdout",
          "text": [
            "Examples for label 'Center':\n"
          ]
        },
        {
          "output_type": "display_data",
          "data": {
            "text/plain": [
              "<Figure size 640x480 with 1 Axes>"
            ],
            "image/png": "[encoded data removed]"
          },
          "metadata": {}
        },
        {
          "output_type": "stream",
          "name": "stdout",
          "text": [
            "Examples for label 'Edge-Loc':\n"
          ]
        },
        {
          "output_type": "display_data",
          "data": {
            "text/plain": [
              "<Figure size 640x480 with 1 Axes>"
            ],
            "image/png": "[encoded data removed]"
          },
          "metadata": {}
        },
        {
          "output_type": "stream",
          "name": "stdout",
          "text": [
            "Examples for label 'Edge-Ring':\n"
          ]
        },
        {
          "output_type": "display_data",
          "data": {
            "text/plain": [
              "<Figure size 640x480 with 1 Axes>"
            ],
            "image/png": "[encoded data removed]"
          },
          "metadata": {}
        },
        {
          "output_type": "stream",
          "name": "stdout",
          "text": [
            "Examples for label 'Loc':\n"
          ]
        },
        {
          "output_type": "display_data",
          "data": {
            "text/plain": [
              "<Figure size 640x480 with 1 Axes>"
            ],
            "image/png": "[encoded data removed]"
          },
          "metadata": {}
        },
        {
          "output_type": "stream",
          "name": "stdout",
          "text": [
            "Examples for label 'Near-full':\n"
          ]
        },
        {
          "output_type": "display_data",
          "data": {
            "text/plain": [
              "<Figure size 640x480 with 1 Axes>"
            ],
            "image/png": "[encoded data removed]"
          },
          "metadata": {}
        },
        {
          "output_type": "stream",
          "name": "stdout",
          "text": [
            "Examples for label 'Scratch':\n"
          ]
        },
        {
          "output_type": "display_data",
          "data": {
            "text/plain": [
              "<Figure size 640x480 with 1 Axes>"
            ],
            "image/png": "[encoded data removed]"
          },
          "metadata": {}
        },
        {
          "output_type": "stream",
          "name": "stdout",
          "text": [
            "Examples for label 'none':\n"
          ]
        },
        {
          "output_type": "display_data",
          "data": {
            "text/plain": [
              "<Figure size 640x480 with 1 Axes>"
            ],
            "image/png": "[encoded data removed]"
          },
          "metadata": {}
        }
      ]
    },
    {
      "cell_type": "code",
      "source": [
        "def get_oversampled_data(X, y):\n",
        "  # Reshape X to a 2D array\n",
        "  X_reshaped = X.reshape(X.shape[0], -1)\n",
        "\n",
        "  # Oversample all classes except the majority class and only the trainind dataset\n",
        "  oversampler = RandomOverSampler(sampling_strategy='not majority', random_state=42)\n",
        "\n",
        "  X_over, y_over = oversampler.fit_resample(X_reshaped, y)\n",
        "\n",
        "  # Reshape X back to its original shape\n",
        "  X_over = X_over.reshape(X_over.shape[0], X.shape[1], X.shape[2], X.shape[3])\n",
        "\n",
        "  return X_over, y_over"
      ],
      "metadata": {
        "id": "dBsa2KMXaTGJ"
      },
      "execution_count": 5,
      "outputs": []
    },
    {
      "cell_type": "code",
      "source": [
        "# Oversampling both train and test splits\n",
        "\n",
        "# Going to Oversample all majority so that we have only as much as the least frequent class\n",
        "\n",
        "def get_data_splits(df, y_name='labels', should_oversample=True, should_stratify=True, test_size=0.2, random_state=42):\n",
        "  # Preprocess the data\n",
        "  X = np.array([np.transpose(img, (1, 2, 0)) for img in df['images']])\n",
        "  y = LabelEncoder().fit_transform(df[y_name])\n",
        "\n",
        "  if should_oversample:\n",
        "    X, y = get_oversampled_data(X, y)\n",
        "\n",
        "  # Convert labels to one-hot encoding\n",
        "  y_one_hot = tf.keras.utils.to_categorical(y)\n",
        "\n",
        "  # Split the data into training and testing sets\n",
        "  if should_stratify:\n",
        "    X_train, X_test, y_train, y_test = train_test_split(\n",
        "        X, y_one_hot, test_size=test_size,\n",
        "        random_state=random_state, stratify=y_one_hot)\n",
        "  else:\n",
        "    X_train, X_test, y_train, y_test = train_test_split(\n",
        "        X, y_one_hot, test_size=test_size, random_state=random_state)\n",
        "\n",
        "  return X_train, X_test, y_train, y_test\n",
        "\n",
        "\n",
        "def get_model(n_unique_labels, metrics=['accuracy']):\n",
        "  # Build and train the CNN model using tf.keras\n",
        "  model = Sequential([\n",
        "      Conv2D(32, (3, 3), activation='relu', input_shape=(26, 26, 3)),\n",
        "      MaxPooling2D((2, 2)),\n",
        "      Conv2D(64, (3, 3), activation='relu'),\n",
        "      MaxPooling2D((2, 2)),\n",
        "      Conv2D(128, (3, 3), activation='relu'),\n",
        "      MaxPooling2D((2, 2)),\n",
        "      Flatten(),\n",
        "      Dense(128, activation='relu'),\n",
        "      Dense(n_unique_labels, activation='softmax')\n",
        "  ])\n",
        "\n",
        "  model.compile(optimizer='adam', loss='categorical_crossentropy', metrics=metrics)\n",
        "  return model"
      ],
      "metadata": {
        "id": "_JSiw3r3YZ8w"
      },
      "execution_count": 6,
      "outputs": []
    },
    {
      "cell_type": "code",
      "source": [
        "def print_metrics(y_test, y_pred, unique_labels):\n",
        "\n",
        "  # Convert one-hot encoded labels back to original labels\n",
        "  y_test_labels = np.argmax(y_test, axis=1)\n",
        "\n",
        "  # Calculate accuracy\n",
        "  accuracy = accuracy_score(y_test_labels, y_pred)\n",
        "  print(f\"Overall Accuracy: {accuracy:.4f}\\n\")\n",
        "\n",
        "\n",
        "  # Classification Report\n",
        "  class_report = classification_report(y_test_labels,\n",
        "                                       y_pred,\n",
        "                                       target_names=unique_labels)\n",
        "  print(\"Classification Report:\\n\", class_report)\n",
        "\n",
        "  # Confusion Matrix\n",
        "  conf_matrix = confusion_matrix(y_test_labels, y_pred)\n",
        "  conf_matrix_df = pd.DataFrame(conf_matrix, index=unique_labels,\n",
        "                                columns=unique_labels)\n",
        "  print(\"\\nConfusion Matrix:\\n\", conf_matrix_df)"
      ],
      "metadata": {
        "id": "pZlPbXX1hoGU"
      },
      "execution_count": 7,
      "outputs": []
    },
    {
      "cell_type": "code",
      "source": [
        "def run_model_old(df, y_name):\n",
        "  # Train the model\n",
        "  X_train, X_test, y_train, y_test = get_data_splits(df, y_name)\n",
        "  model = get_model(np.unique(df[y_name]), metrics=[tf.keras.metrics.Precision()])\n",
        "  model.fit(X_train, y_train, epochs=1, batch_size=32, validation_split=0.2)\n",
        "\n",
        "  # Get accuracy of model\n",
        "  y_pred = np.argmax(model.predict(X_test), axis=1)\n",
        "  print_metrics(y_test, y_pred, np.unique(df[y_name]))\n",
        "  return model\n",
        "\n",
        "\n",
        "def get_model_1(X_train, y_train):\n",
        "  def get_transformed_y_train():\n",
        "    transformed = []\n",
        "    # If the one-hot encoding is (0, 0, 0, 0, 0, 0, 0, 0, 1), change it to\n",
        "    # (1, 0) else to (0, 1)\n",
        "    # Assuming the last encoding is that for none for model 1\n",
        "    # and the first encoding is that for none for model 2\n",
        "    for item in y_train:\n",
        "      if item[-1] == 1.0:\n",
        "        transformed.append(np.array([0.0, 1.0]))\n",
        "      else:\n",
        "        transformed.append(np.array([1.0, 0.0]))\n",
        "    return np.array(transformed)\n",
        "\n",
        "  model = get_model(2, metrics=[tf.keras.metrics.Precision()])\n",
        "  model.fit(X_train, get_transformed_y_train(), epochs=1, batch_size=32, validation_split=0.2)\n",
        "  return model\n",
        "\n",
        "def get_model_2(X_train, y_train):\n",
        "  model = get_model(9, metrics=[tf.keras.metrics.Precision()])\n",
        "  model.fit(X_train, y_train, epochs=1, batch_size=32, validation_split=0.2)\n",
        "  return model\n",
        "\n",
        "# def run_model(X_train, y_train):\n",
        "#   # Train the model\n",
        "#   # X_train, X_test, y_train, y_test = get_data_splits_v2(X, y, y_name)\n",
        "#   model = get_model(np.unique(df[y_name]), metrics=[tf.keras.metrics.Precision()])\n",
        "#   model.fit(X_train, y_train, epochs=1, batch_size=32, validation_split=0.2)\n",
        "\n",
        "#   # Get accuracy of model\n",
        "#   y_pred = np.argmax(model.predict(X_test), axis=1)\n",
        "#   print_metrics(y_test, y_pred, np.unique(df[y_name]))\n",
        "#   return model"
      ],
      "metadata": {
        "id": "wG-UqYx1sLJS"
      },
      "execution_count": 58,
      "outputs": []
    },
    {
      "cell_type": "code",
      "source": [
        "def mega_model(X_test, model_1, model_2):\n",
        "  y_pred = np.argmax(model_1.predict(X_test), axis=1)\n",
        "  y_pred_2 = np.argmax(model_2.predict(X_test), axis=1)\n",
        "  y_pred_2[y_pred == ]\n",
        "  return y_pred, y_pred_2"
      ],
      "metadata": {
        "colab": {
          "base_uri": "https://localhost:8080/",
          "height": 141
        },
        "id": "hUg338NYCZQX",
        "outputId": "91807d75-2cdf-407e-c0b5-06b2f0cab9f7"
      },
      "execution_count": 59,
      "outputs": [
        {
          "output_type": "error",
          "ename": "SyntaxError",
          "evalue": "invalid syntax (<ipython-input-59-7e8061f02ef7>, line 4)",
          "traceback": [
            "\u001b[0;36m  File \u001b[0;32m\"<ipython-input-59-7e8061f02ef7>\"\u001b[0;36m, line \u001b[0;32m4\u001b[0m\n\u001b[0;31m    y_pred_2[y_pred == ]\u001b[0m\n\u001b[0m                       ^\u001b[0m\n\u001b[0;31mSyntaxError\u001b[0m\u001b[0;31m:\u001b[0m invalid syntax\n"
          ]
        }
      ]
    },
    {
      "cell_type": "code",
      "source": [
        "def main(df):\n",
        "  # Get the df\n",
        "  # df = get_df()\n",
        "\n",
        "  # split the data to get a well stratified test data\n",
        "  # This test data will be used for final reporting\n",
        "  X_train, X_test, y_train, y_test = get_data_splits(df, 'labels')\n",
        "\n",
        "  # Get the first model\n",
        "  print(\"############ MODEL 1\\n\")\n",
        "  model_1 = get_model_1(X_train, y_train)\n",
        "\n",
        "  # Train the second model\n",
        "  # Seond model will be trained only on those rows where\n",
        "  # the first_level_label is not_none\n",
        "  print(\"############ MODEL 2\\n\")\n",
        "  model_2 = get_model_2(X_train, y_train)\n",
        "\n",
        "\n",
        "  # Call the clubbing function on the test set\n",
        "  y_pred = mega_model(X_test, model_1, model_2)\n",
        "\n",
        "  # Report the metrics on the results of the clubbing function - TODO: add viz\n",
        "\n",
        "\n",
        "\n",
        "  # Train the model\n",
        "\n",
        "  # Make predictions on the test set\n",
        "\n",
        "  # labels_array = df['labels']\n",
        "  # unique_labels = np.unique(labels_array)\n",
        "\n",
        "  # print(metrics)"
      ],
      "metadata": {
        "id": "ORAfgWXsl55p"
      },
      "execution_count": 10,
      "outputs": []
    },
    {
      "cell_type": "code",
      "source": [
        "df = get_df()"
      ],
      "metadata": {
        "id": "eM0h5PxUA28t"
      },
      "execution_count": 60,
      "outputs": []
    },
    {
      "cell_type": "code",
      "source": [
        "main(df)"
      ],
      "metadata": {
        "id": "3lUKYW0jpE_p"
      },
      "execution_count": null,
      "outputs": []
    },
    {
      "cell_type": "code",
      "source": [
        "X_train, X_test, y_train, y_test = get_data_splits(df, 'labels')"
      ],
      "metadata": {
        "id": "1WsA9IUrBbwi"
      },
      "execution_count": 61,
      "outputs": []
    },
    {
      "cell_type": "code",
      "source": [
        "model_1 = get_model_1(X_train, y_train)"
      ],
      "metadata": {
        "colab": {
          "base_uri": "https://localhost:8080/"
        },
        "id": "gkBL5ToS50Kd",
        "outputId": "8f3bd30c-e1c4-4f3d-c700-e104246dbc00"
      },
      "execution_count": 62,
      "outputs": [
        {
          "output_type": "stream",
          "name": "stdout",
          "text": [
            "2428/2428 [==============================] - 82s 33ms/step - loss: 0.0717 - precision_6: 0.9729 - val_loss: 0.0145 - val_precision_6: 0.9968\n"
          ]
        }
      ]
    },
    {
      "cell_type": "code",
      "source": [
        "y_pred_1 = np.argmax(model_1.predict(X_test), axis=1)"
      ],
      "metadata": {
        "colab": {
          "base_uri": "https://localhost:8080/"
        },
        "id": "suMySrzyDpSO",
        "outputId": "3de701d3-3a6f-45db-9682-e23e6320dbe7"
      },
      "execution_count": 33,
      "outputs": [
        {
          "output_type": "stream",
          "name": "stdout",
          "text": [
            "759/759 [==============================] - 7s 9ms/step\n"
          ]
        }
      ]
    },
    {
      "cell_type": "code",
      "source": [
        "y_pred"
      ],
      "metadata": {
        "colab": {
          "base_uri": "https://localhost:8080/"
        },
        "id": "0pu90DxxEB7B",
        "outputId": "a32acce6-f5c9-4f67-c589-4d144eecd2d6"
      },
      "execution_count": 22,
      "outputs": [
        {
          "output_type": "execute_result",
          "data": {
            "text/plain": [
              "array([1, 1, 1, 1, 1, 1, 1, 1, 1, 1, 1, 1, 1, 1, 1, 1, 1, 1, 1, 1, 1, 1,\n",
              "       1, 1, 1, 1, 1, 1, 1, 1, 1, 1, 1, 1, 1, 1, 1, 1, 1, 1, 1, 1, 1, 1,\n",
              "       1, 1, 1, 1, 1, 1, 1, 1, 1, 1, 1, 1, 1, 1, 1])"
            ]
          },
          "metadata": {},
          "execution_count": 22
        }
      ]
    },
    {
      "cell_type": "code",
      "source": [
        "model_2 = get_model_2(X_train, y_train)"
      ],
      "metadata": {
        "colab": {
          "base_uri": "https://localhost:8080/"
        },
        "id": "-LHd_sw_6RKW",
        "outputId": "bd8b9080-73f0-4275-c8d5-f8b275500f5b"
      },
      "execution_count": 63,
      "outputs": [
        {
          "output_type": "stream",
          "name": "stdout",
          "text": [
            "2428/2428 [==============================] - 88s 36ms/step - loss: 0.2687 - precision_7: 0.9514 - val_loss: 0.0202 - val_precision_7: 0.9960\n"
          ]
        }
      ]
    },
    {
      "cell_type": "code",
      "source": [
        "y_pred_2 = np.argmax(model_2.predict(X_test), axis=1)"
      ],
      "metadata": {
        "colab": {
          "base_uri": "https://localhost:8080/"
        },
        "id": "Yu3FhE8NFR5R",
        "outputId": "4b799459-d438-4504-e033-1ac187b4fc97"
      },
      "execution_count": 64,
      "outputs": [
        {
          "output_type": "stream",
          "name": "stdout",
          "text": [
            "759/759 [==============================] - 7s 9ms/step\n"
          ]
        }
      ]
    },
    {
      "cell_type": "code",
      "source": [
        "Counter(y_pred_1)"
      ],
      "metadata": {
        "colab": {
          "base_uri": "https://localhost:8080/"
        },
        "id": "LVmDfYY_FdA5",
        "outputId": "6d0cb6b4-84c2-4366-a3b8-7ca3b222fc30"
      },
      "execution_count": 65,
      "outputs": [
        {
          "output_type": "execute_result",
          "data": {
            "text/plain": [
              "Counter({1: 21661, 0: 2620})"
            ]
          },
          "metadata": {},
          "execution_count": 65
        }
      ]
    },
    {
      "cell_type": "code",
      "source": [],
      "metadata": {
        "colab": {
          "base_uri": "https://localhost:8080/"
        },
        "id": "coFD5ZBiJQlc",
        "outputId": "95e2840f-b5c2-4209-ef29-32f437767e8a"
      },
      "execution_count": 57,
      "outputs": [
        {
          "output_type": "execute_result",
          "data": {
            "text/plain": [
              "1"
            ]
          },
          "metadata": {},
          "execution_count": 57
        }
      ]
    },
    {
      "cell_type": "code",
      "source": [
        "y_pred_2[:10]"
      ],
      "metadata": {
        "id": "1enLBPSkIF2C"
      },
      "execution_count": null,
      "outputs": []
    },
    {
      "cell_type": "code",
      "source": [
        "Counter(y_pred_2)"
      ],
      "metadata": {
        "colab": {
          "base_uri": "https://localhost:8080/"
        },
        "id": "BtmWpLBWHIq7",
        "outputId": "ce6ce118-64f2-441c-b4f9-05711bd31da7"
      },
      "execution_count": 39,
      "outputs": [
        {
          "output_type": "execute_result",
          "data": {
            "text/plain": [
              "Counter({6: 2698,\n",
              "         1: 2697,\n",
              "         2: 2166,\n",
              "         0: 2715,\n",
              "         4: 2689,\n",
              "         7: 2712,\n",
              "         3: 2718,\n",
              "         8: 3188,\n",
              "         5: 2698})"
            ]
          },
          "metadata": {},
          "execution_count": 39
        }
      ]
    },
    {
      "cell_type": "code",
      "source": [
        "list_1 = list(y_pred_1)\n",
        "list_2 = list(y_pred_2)"
      ],
      "metadata": {
        "id": "KvXHJcnGHSF2"
      },
      "execution_count": 66,
      "outputs": []
    },
    {
      "cell_type": "code",
      "source": [
        "final_result = []\n",
        "for i, item in enumerate(list_1):\n",
        "  if item == 1:\n",
        "    # not_none\n",
        "    final_result.append(list_2[i])\n",
        "  else:\n",
        "    final_result.append(8)"
      ],
      "metadata": {
        "id": "_SbRQAcsHwx_"
      },
      "execution_count": 67,
      "outputs": []
    },
    {
      "cell_type": "code",
      "source": [
        "final_y_pred = np.array(final_result)"
      ],
      "metadata": {
        "id": "om9AD8VwHy1Y"
      },
      "execution_count": 68,
      "outputs": []
    },
    {
      "cell_type": "code",
      "source": [
        "y_test.shape"
      ],
      "metadata": {
        "colab": {
          "base_uri": "https://localhost:8080/"
        },
        "id": "9-IdONGWIWtP",
        "outputId": "35ab322a-6c94-4f67-b804-e2a4eab498e6"
      },
      "execution_count": 69,
      "outputs": [
        {
          "output_type": "execute_result",
          "data": {
            "text/plain": [
              "(24281, 9)"
            ]
          },
          "metadata": {},
          "execution_count": 69
        }
      ]
    },
    {
      "cell_type": "code",
      "source": [
        "final_y_pred.shape"
      ],
      "metadata": {
        "colab": {
          "base_uri": "https://localhost:8080/"
        },
        "id": "AoI0Hz_uIY_n",
        "outputId": "e91da0d9-afa0-479e-adc5-cf076068d354"
      },
      "execution_count": 70,
      "outputs": [
        {
          "output_type": "execute_result",
          "data": {
            "text/plain": [
              "(24281,)"
            ]
          },
          "metadata": {},
          "execution_count": 70
        }
      ]
    },
    {
      "cell_type": "code",
      "source": [
        "print_metrics(y_pred=final_y_pred, y_test=y_test, unique_labels=np.unique(df[\"labels\"]))"
      ],
      "metadata": {
        "colab": {
          "base_uri": "https://localhost:8080/"
        },
        "id": "hM-LPzELIcuf",
        "outputId": "9d2b64a4-a0b5-4f46-8fd5-0da44e9d0f89"
      },
      "execution_count": 71,
      "outputs": [
        {
          "output_type": "stream",
          "name": "stdout",
          "text": [
            "Overall Accuracy: 0.9969\n",
            "\n",
            "Classification Report:\n",
            "               precision    recall  f1-score   support\n",
            "\n",
            "      Center       1.00      1.00      1.00      2698\n",
            "       Donut       1.00      1.00      1.00      2697\n",
            "    Edge-Loc       0.99      0.99      0.99      2698\n",
            "   Edge-Ring       0.99      1.00      1.00      2698\n",
            "         Loc       0.99      1.00      0.99      2698\n",
            "   Near-full       1.00      1.00      1.00      2698\n",
            "      Random       1.00      1.00      1.00      2698\n",
            "     Scratch       1.00      1.00      1.00      2698\n",
            "        none       0.99      0.99      0.99      2698\n",
            "\n",
            "    accuracy                           1.00     24281\n",
            "   macro avg       1.00      1.00      1.00     24281\n",
            "weighted avg       1.00      1.00      1.00     24281\n",
            "\n",
            "\n",
            "Confusion Matrix:\n",
            "            Center  Donut  Edge-Loc  Edge-Ring   Loc  Near-full  Random  \\\n",
            "Center       2698      0         0          0     0          0       0   \n",
            "Donut           0   2697         0          0     0          0       0   \n",
            "Edge-Loc        0      0      2673         17     0          0       0   \n",
            "Edge-Ring       0      0         0       2698     0          0       0   \n",
            "Loc             7      0         0          0  2685          0       0   \n",
            "Near-full       0      0         0          0     0       2698       0   \n",
            "Random          0      0         0          0     0          0    2698   \n",
            "Scratch         0      0         0          0     0          0       0   \n",
            "none            3      0        16          0    16          0       0   \n",
            "\n",
            "           Scratch  none  \n",
            "Center           0     0  \n",
            "Donut            0     0  \n",
            "Edge-Loc         0     8  \n",
            "Edge-Ring        0     0  \n",
            "Loc              0     6  \n",
            "Near-full        0     0  \n",
            "Random           0     0  \n",
            "Scratch       2698     0  \n",
            "none             2  2661  \n"
          ]
        }
      ]
    },
    {
      "cell_type": "code",
      "source": [],
      "metadata": {
        "id": "VNN5hYSnIz5H"
      },
      "execution_count": null,
      "outputs": []
    },
    {
      "cell_type": "code",
      "source": [],
      "metadata": {
        "id": "wVSM2WCtMT03"
      },
      "execution_count": null,
      "outputs": []
    }
  ]
}